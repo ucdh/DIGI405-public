{
 "cells": [
  {
   "cell_type": "markdown",
   "metadata": {},
   "source": [
    "# DIGI405-19S2 - Web Scraping Lab - Python Task Sample Solutions"
   ]
  },
  {
   "cell_type": "markdown",
   "metadata": {},
   "source": [
    "### 1. Modify the regular expression to list all the 'Someday Stories' articles from https://www.rnz.co.nz/news/the-wireless"
   ]
  },
  {
   "cell_type": "code",
   "execution_count": null,
   "metadata": {},
   "outputs": [],
   "source": [
    "import requests\n",
    "from bs4 import BeautifulSoup\n",
    "import re\n",
    "\n",
    "response = requests.get('https://www.radionz.co.nz/news/the-wireless')\n",
    "soup = BeautifulSoup(response.text, 'html.parser')\n",
    "\n",
    "regex_results = soup.find_all(string=re.compile(\"Someday Stories:\"))\n",
    "for result in regex_results:\n",
    "    link = result.find_parent('a', class_='faux-link') # just want the relevant links\n",
    "    if link is not None:\n",
    "        print(link.get_text(),link['href']) #output link text and url"
   ]
  },
  {
   "cell_type": "markdown",
   "metadata": {},
   "source": [
    "### 2. Copy and modify the code to collect all the links in the text of this article: https://www.radionz.co.nz/news/the-wireless/375285/feature-artificial-affection-the-psychology-of-human-robot-interactions"
   ]
  },
  {
   "cell_type": "code",
   "execution_count": null,
   "metadata": {},
   "outputs": [],
   "source": [
    "import requests\n",
    "from bs4 import BeautifulSoup\n",
    "\n",
    "response = requests.get('https://www.radionz.co.nz/news/the-wireless/375285/feature-artificial-affection-the-psychology-of-human-robot-interactions')\n",
    "soup = BeautifulSoup(response.text, 'html.parser')\n",
    "article_body = soup.find(class_='article__body')\n",
    "links = article_body.find_all('a')\n",
    "for link in links:\n",
    "    print(link['href'])"
   ]
  },
  {
   "cell_type": "markdown",
   "metadata": {},
   "source": [
    "### 3. For the story https://www.radionz.co.nz/news/the-wireless/375285/feature-artificial-affection-the-psychology-of-human-robot-interactions, write code to extract the photo caption text using .select() and CSS selectors. "
   ]
  },
  {
   "cell_type": "code",
   "execution_count": null,
   "metadata": {},
   "outputs": [],
   "source": [
    "import requests\n",
    "from bs4 import BeautifulSoup\n",
    "\n",
    "response = requests.get('https://www.radionz.co.nz/news/the-wireless/375285/feature-artificial-affection-the-psychology-of-human-robot-interactions')\n",
    "soup = BeautifulSoup(response.text, 'html.parser')\n",
    "\n",
    "# there are other ways you could write the CSS selector below\n",
    "# you could be less specific - this just makes sure have span.caption \n",
    "# within an element with .photo-captioned__information as class\n",
    "captions = soup.select('.photo-captioned__information span.caption') \n",
    "\n",
    "for caption in captions:\n",
    "    print(caption.get_text().strip()) #.strip() just strips the whitespace\n"
   ]
  },
  {
   "cell_type": "markdown",
   "metadata": {},
   "source": [
    "### 4. On the page https://www.rnz.co.nz/news/the-wireless the articles with video are indicated with (VIDEO) after the description. Write some code to find all stories and test whether a story contains video. Your code should output the URL to each story that features video"
   ]
  },
  {
   "cell_type": "code",
   "execution_count": null,
   "metadata": {},
   "outputs": [],
   "source": [
    "import requests\n",
    "from bs4 import BeautifulSoup\n",
    "\n",
    "response = requests.get('https://www.radionz.co.nz/news/the-wireless')\n",
    "soup = BeautifulSoup(response.text, 'html.parser')\n",
    "\n",
    "stories = soup.find_all('li', class_='o-digest')\n",
    "for story in stories:\n",
    "    flag = story.find('span', class_='media-types')\n",
    "    if flag and flag.string == 'Video':\n",
    "        print(story.a['href'])\n",
    "        "
   ]
  },
  {
   "cell_type": "code",
   "execution_count": null,
   "metadata": {},
   "outputs": [],
   "source": []
  }
 ],
 "metadata": {
  "kernelspec": {
   "display_name": "Python 3",
   "language": "python",
   "name": "python3"
  },
  "language_info": {
   "codemirror_mode": {
    "name": "ipython",
    "version": 3
   },
   "file_extension": ".py",
   "mimetype": "text/x-python",
   "name": "python",
   "nbconvert_exporter": "python",
   "pygments_lexer": "ipython3",
   "version": "3.7.3"
  }
 },
 "nbformat": 4,
 "nbformat_minor": 2
}
