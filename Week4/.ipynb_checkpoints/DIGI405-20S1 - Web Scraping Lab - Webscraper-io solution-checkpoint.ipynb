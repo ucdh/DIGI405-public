{
 "cells": [
  {
   "cell_type": "markdown",
   "metadata": {},
   "source": [
    "# DIGI405-20S1 - Web Scraping Lab - Webscraper Solution\n"
   ]
  },
  {
   "cell_type": "markdown",
   "metadata": {},
   "source": [
    "## Screenshots"
   ]
  },
  {
   "cell_type": "markdown",
   "metadata": {},
   "source": [
    "You may get something more complicated for story_links (e.g. .lead-story a.faux-link, li.o-digest--extended a.faux-link, .o-digest--standard a.faux-link) but you will notice it is just a complicated way of accessing a.faux_link\n",
    "\n",
    "![](revised-selectors-1.png)\n",
    "\n",
    "with the story_text make sure you are selecting the whole article body (note: this means you are getting image captions as well)\n",
    "\n",
    "![](revised-selectors-2.png)\n",
    "\n",
    "Finished Graph ...\n",
    "\n",
    "![](revised-selector-graph.png)"
   ]
  },
  {
   "cell_type": "code",
   "execution_count": null,
   "metadata": {},
   "outputs": [],
   "source": []
  }
 ],
 "metadata": {
  "kernelspec": {
   "display_name": "Python 3",
   "language": "python",
   "name": "python3"
  },
  "language_info": {
   "codemirror_mode": {
    "name": "ipython",
    "version": 3
   },
   "file_extension": ".py",
   "mimetype": "text/x-python",
   "name": "python",
   "nbconvert_exporter": "python",
   "pygments_lexer": "ipython3",
   "version": "3.7.3"
  }
 },
 "nbformat": 4,
 "nbformat_minor": 2
}
