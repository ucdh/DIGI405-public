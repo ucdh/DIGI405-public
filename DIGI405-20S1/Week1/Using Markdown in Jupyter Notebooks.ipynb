{
 "cells": [
  {
   "cell_type": "markdown",
   "metadata": {},
   "source": [
    "# Using Markdown"
   ]
  },
  {
   "cell_type": "markdown",
   "metadata": {},
   "source": [
    "Markdown is a way to write web content using syntax that is readable and easy to type. It is the method you will use in Jupyter notebooks to add text, links, images, quotations, tables and other rich content (everything except Python code, in fact).\n",
    "\n",
    "You can write in Markdown mode by selecting it from the drop down menu on the toolbar. When in Markdown mode it will look like this:\n",
    "\n",
    "![drop down menu on the toolbar](https://imgur.com/download/kezMYFc)\n",
    "\n",
    "And likewise when you're writing in 'code' mode. Don't worry about the other modes 'NBConvert' and 'Heading' - you won't need them.\n",
    "\n",
    "A good guide for Markdown in Jupyter Notebooks can be found [here](http://jupyter-notebook.readthedocs.io/en/latest/examples/Notebook/Working%20With%20Markdown%20Cells.html)"
   ]
  },
  {
   "cell_type": "markdown",
   "metadata": {},
   "source": [
    "Let's look at some examples of common formatting you will want to use. \n",
    "\n",
    "### Headings\n",
    "\n",
    "```# Heading 1```   \n",
    "```## Heading 2```  \n",
    "```### Heading 3```  \n",
    "\n",
    "produce: \n",
    "\n",
    "# Heading 1\n",
    "## Heading 2\n",
    "### Heading 3\n",
    "\n",
    "For different sized headings use '#' characters, as above."
   ]
  },
  {
   "cell_type": "markdown",
   "metadata": {},
   "source": [
    "### Links & Images\n",
    "Links can be added with the link text in square brackets followed by the URL in parentheses, eg [Learn](http://learn.canterbury.ac.nz) is created with  \n",
    ">```[Learn](http://learn.canterbury.ac.nz)```\n",
    "\n",
    "Images are similar, with an ! in front, eg we use\n",
    "\n",
    "> ```![](http://cdn3-www.cattime.com/assets/uploads/2011/08/best-kitten-names-1.jpg)```\n",
    "\n",
    "to load in\n",
    "\n",
    "![](http://cdn3-www.cattime.com/assets/uploads/2011/08/best-kitten-names-1.jpg)\n",
    "\n",
    "You can link to online images by putting them on Google Drive, Dropbox, or an online hosting service like Imgur. Or you can add a local image file. If the file 'cat.jpg' was in the same directory as your notebook, you'd load it into your notebook like this:\n",
    "\n",
    "> ```![Picture of a cat](cat.jpg)```"
   ]
  },
  {
   "cell_type": "markdown",
   "metadata": {},
   "source": [
    "### Lists\n",
    "\n",
    "#### Ordered (numbered list):\n",
    "\n",
    "```\n",
    "1. Ordered\n",
    "2. Items\n",
    "3. Listed\n",
    "```\n",
    "\n",
    "produces\n",
    "\n",
    "1. Ordered\n",
    "2. Items\n",
    "3. Listed\n",
    "\n",
    "#### Unordered (use stars, hyphens or plus symbols for each item):\n",
    "\n",
    "```\n",
    "* Unordered\n",
    "* Items\n",
    "* Listed\n",
    "```\n",
    "produces\n",
    "\n",
    "* Unordered\n",
    "* Items\n",
    "* Listed\n",
    "\n",
    "You generally need a line of text introducing the list, then a blank line, then the list."
   ]
  }
 ],
 "metadata": {
  "anaconda-cloud": {},
  "kernelspec": {
   "display_name": "Python 3",
   "language": "python",
   "name": "python3"
  },
  "language_info": {
   "codemirror_mode": {
    "name": "ipython",
    "version": 3
   },
   "file_extension": ".py",
   "mimetype": "text/x-python",
   "name": "python",
   "nbconvert_exporter": "python",
   "pygments_lexer": "ipython3",
   "version": "3.7.3"
  }
 },
 "nbformat": 4,
 "nbformat_minor": 1
}
